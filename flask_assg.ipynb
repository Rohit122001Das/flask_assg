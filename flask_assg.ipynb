{
 "cells": [
  {
   "cell_type": "code",
   "execution_count": null,
   "id": "94fd381b-792e-4f85-9856-0a4a756bf2e3",
   "metadata": {},
   "outputs": [],
   "source": [
    "# Que no,1>>> what is Flask framework ? what are advantage of flash framework?\n",
    "\n",
    "\n",
    "\n",
    "  Ans >>>  Flask is a web framework, it’s a Python module that lets you develop \n",
    "   web applications easily. It’s has a small and easy-to-extend core: it’s a\n",
    "   microframework that doesn’t include an ORM (Object Relational Manager) or \n",
    "   such features.\n",
    "\n",
    "    It does have many cool features like url routing, template engine. \n",
    "     It is a WSGI web app framework.'''\n",
    "\n",
    "     Advantage of flash framework\n",
    "\n",
    "   1> Scalable:\n",
    "               Size is everything, and Flask’s status as a microframework means that you can use it to \n",
    "               grow a tech project such as a web app incredibly quickly. If you want to make an app that \n",
    "                starts small, but has the potential to grow quickly and in directions you haven’t completely\n",
    "                worked out yet, then it’s an ideal choice. Its simplicity of use and few dependencies enable \n",
    "                it to run smoothly even as it scales up and up.\n",
    "\n",
    "    2> Flexible :\n",
    "            This is the core feature of Flask, and one of its biggest advantages. To paraphrase one of the \n",
    "            principles of the Zen of Python, simplicity is better than complexity, because it can be easily \n",
    "            rearranged and moved around.\n",
    "            \n",
    "     3>Easy to negotiate :\n",
    "                   Like Django, being able to find your way around easily is key for allowing web developers to \n",
    "                   concentrate on just coding quickly, without getting bogged down. At its core, the microframework \n",
    "                   is easy to understand for web developers, not just saving them time and effort but also giving them \n",
    "                    more control over their code and what is possible.\n",
    "                    \n",
    "     4> Lightweight :\n",
    "                When we use this term in relation to a tool or framework, we’re talking about the design of it—there\n",
    "                are few constituent parts that need to be assembled and reassembled, and it doesn’t rely on a large \n",
    "                number of extensions to function. This design gives web developers a certain level of control."
   ]
  },
  {
   "cell_type": "code",
   "execution_count": null,
   "id": "27d8ee02-e5e4-4de6-a7c7-eeae0a380136",
   "metadata": {},
   "outputs": [],
   "source": [
    " Que 2 > create a simple flask appliacation to display 'Hello World!!' '''\n",
    "     \n",
    "    program \n",
    "       \n",
    "        \n",
    "        from flash import Flash \n",
    "        app = Flash (__name__)\n",
    "        \n",
    "        @app.route(\"/\")\n",
    "        def test():\n",
    "            return \"<h1> Hello World!! </h1>\"\n",
    "        if __name__==\"__main__\" :\n",
    "            app.run(host=\"0.0.0.0\")\n",
    "                     "
   ]
  },
  {
   "cell_type": "code",
   "execution_count": 1,
   "id": "a36b1a8e-d8b6-4f4b-83d7-920d3e95951e",
   "metadata": {},
   "outputs": [
    {
     "ename": "SyntaxError",
     "evalue": "invalid syntax (4206609812.py, line 1)",
     "output_type": "error",
     "traceback": [
      "\u001b[0;36m  Cell \u001b[0;32mIn [1], line 1\u001b[0;36m\u001b[0m\n\u001b[0;31m    https://github.com/Rohit122001Das/images-.git\u001b[0m\n\u001b[0m          ^\u001b[0m\n\u001b[0;31mSyntaxError\u001b[0m\u001b[0;31m:\u001b[0m invalid syntax\n"
     ]
    }
   ],
   "source": [
    "https://github.com/Rohit122001Das/images-.git"
   ]
  },
  {
   "cell_type": "code",
   "execution_count": null,
   "id": "8ee39cb5-7517-42ed-acc4-508c452e6b5a",
   "metadata": {},
   "outputs": [],
   "source": [
    " Que no.3>  What is App routinh in flash ? Why do we use app route?\n",
    "\n",
    "    Ans>>>  App Routing means mapping the URLs to a specific function that will \n",
    "    handle the logic for that URL.\n",
    "      \n",
    "                   App routing is used to map the specific URL with the associated function that\n",
    "    is intended to perform some task. It is used to access some particular page like Flask \n",
    "    Tutorial in the web application.\n",
    "\n",
    "    In our first application, the URL ('/') is associated with the home function that returns\n",
    "    a particular string displayed on the web page."
   ]
  },
  {
   "cell_type": "code",
   "execution_count": null,
   "id": "b9ade262-3554-4d30-8d94-89edd2e686b6",
   "metadata": {},
   "outputs": [],
   "source": [
    " Que no.4> "
   ]
  },
  {
   "cell_type": "code",
   "execution_count": null,
   "id": "c2cf915b-546a-469c-8fca-1d9c4fb706cf",
   "metadata": {},
   "outputs": [],
   "source": [
    "https://github.com/Rohit122001Das/assi19qes1.git"
   ]
  },
  {
   "cell_type": "code",
   "execution_count": null,
   "id": "3beef8ac-d2bd-4b03-8ff9-da61ad92c366",
   "metadata": {},
   "outputs": [],
   "source": [
    "https://github.com/Rohit122001Das/assi19ques2.git"
   ]
  },
  {
   "cell_type": "code",
   "execution_count": null,
   "id": "529ee131-3b19-4cc9-aa33-a6969f7b8cbb",
   "metadata": {},
   "outputs": [],
   "source": [
    " Que no.5 >"
   ]
  },
  {
   "cell_type": "code",
   "execution_count": null,
   "id": "860b8573-dc3b-4645-9367-2a4860c979bf",
   "metadata": {},
   "outputs": [],
   "source": [
    "To build a URL to a specific function, use the url_for() function.\n",
    "\n",
    "\n"
   ]
  }
 ],
 "metadata": {
  "kernelspec": {
   "display_name": "Python 3 (ipykernel)",
   "language": "python",
   "name": "python3"
  },
  "language_info": {
   "codemirror_mode": {
    "name": "ipython",
    "version": 3
   },
   "file_extension": ".py",
   "mimetype": "text/x-python",
   "name": "python",
   "nbconvert_exporter": "python",
   "pygments_lexer": "ipython3",
   "version": "3.10.6"
  }
 },
 "nbformat": 4,
 "nbformat_minor": 5
}
